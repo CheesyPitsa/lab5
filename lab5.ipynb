{
 "cells": [
  {
   "cell_type": "code",
   "execution_count": 1,
   "id": "f20b26a4-a5b6-472b-bcf4-bee94d6ef3df",
   "metadata": {
    "tags": []
   },
   "outputs": [],
   "source": [
    "import transformers\n",
    "import torch\n",
    "import pandas as pd\n",
    "import nltk\n",
    "import evaluate\n",
    "import numpy as np\n",
    "import matplotlib.pyplot as plt\n",
    "import seaborn as sns\n",
    "from datasets import load_metric, Dataset\n",
    "from nltk.tokenize import sent_tokenize\n",
    "from sklearn.model_selection import train_test_split"
   ]
  },
  {
   "cell_type": "code",
   "execution_count": 2,
   "id": "a87d3d6f-3e9f-4d77-bf66-18f750b62f20",
   "metadata": {
    "tags": []
   },
   "outputs": [],
   "source": [
    "rouge_score = evaluate.load(\"rouge\")"
   ]
  },
  {
   "cell_type": "code",
   "execution_count": 3,
   "id": "896434da-e192-40f5-8155-cd91950f0355",
   "metadata": {
    "tags": []
   },
   "outputs": [
    {
     "data": {
      "text/html": [
       "<div>\n",
       "<style scoped>\n",
       "    .dataframe tbody tr th:only-of-type {\n",
       "        vertical-align: middle;\n",
       "    }\n",
       "\n",
       "    .dataframe tbody tr th {\n",
       "        vertical-align: top;\n",
       "    }\n",
       "\n",
       "    .dataframe thead th {\n",
       "        text-align: right;\n",
       "    }\n",
       "</style>\n",
       "<table border=\"1\" class=\"dataframe\">\n",
       "  <thead>\n",
       "    <tr style=\"text-align: right;\">\n",
       "      <th></th>\n",
       "      <th>База данных</th>\n",
       "      <th>Текстовый запрос</th>\n",
       "      <th>Токен текстовый запрос</th>\n",
       "      <th>Запрос SQL</th>\n",
       "      <th>Токен запрос SQL</th>\n",
       "    </tr>\n",
       "  </thead>\n",
       "  <tbody>\n",
       "    <tr>\n",
       "      <th>0</th>\n",
       "      <td>отдел_управления</td>\n",
       "      <td>\"How many heads of the departments are older t...</td>\n",
       "      <td>[ \"How\", \"many\", \"heads\", \"of\", \"the\", \"depart...</td>\n",
       "      <td>\"SELECT count(*) FROM head WHERE age &gt; 56\"</td>\n",
       "      <td>[ \"SELECT\", \"count\", \"(\", \"*\", \")\", \"FROM\", \"h...</td>\n",
       "    </tr>\n",
       "    <tr>\n",
       "      <th>1</th>\n",
       "      <td>отдел_управления</td>\n",
       "      <td>\"List the name, born state and age of the head...</td>\n",
       "      <td>[ \"List\", \"the\", \"name\", \",\", \"born\", \"state\",...</td>\n",
       "      <td>\"SELECT name , born_state , age FROM head ORDE...</td>\n",
       "      <td>[ \"SELECT\", \"name\", \",\", \"born_state\", \",\", \"a...</td>\n",
       "    </tr>\n",
       "    <tr>\n",
       "      <th>2</th>\n",
       "      <td>отдел_управления</td>\n",
       "      <td>\"List the creation year, name and budget of ea...</td>\n",
       "      <td>[ \"List\", \"the\", \"creation\", \"year\", \",\", \"nam...</td>\n",
       "      <td>\"SELECT creation , name , budget_in_billions F...</td>\n",
       "      <td>[ \"SELECT\", \"creation\", \",\", \"name\", \",\", \"bud...</td>\n",
       "    </tr>\n",
       "    <tr>\n",
       "      <th>3</th>\n",
       "      <td>отдел_управления</td>\n",
       "      <td>\"What are the maximum and minimum budget of th...</td>\n",
       "      <td>[ \"What\", \"are\", \"the\", \"maximum\", \"and\", \"min...</td>\n",
       "      <td>\"SELECT max(budget_in_billions) , min(budget_i...</td>\n",
       "      <td>[ \"SELECT\", \"max\", \"(\", \"budget_in_billions\", ...</td>\n",
       "    </tr>\n",
       "    <tr>\n",
       "      <th>4</th>\n",
       "      <td>отдел_управления</td>\n",
       "      <td>\"What is the average number of employees of th...</td>\n",
       "      <td>[ \"What\", \"is\", \"the\", \"average\", \"number\", \"o...</td>\n",
       "      <td>\"SELECT avg(num_employees) FROM department WHE...</td>\n",
       "      <td>[ \"SELECT\", \"avg\", \"(\", \"num_employees\", \")\", ...</td>\n",
       "    </tr>\n",
       "  </tbody>\n",
       "</table>\n",
       "</div>"
      ],
      "text/plain": [
       "        База данных                                   Текстовый запрос  \\\n",
       "0  отдел_управления  \"How many heads of the departments are older t...   \n",
       "1  отдел_управления  \"List the name, born state and age of the head...   \n",
       "2  отдел_управления  \"List the creation year, name and budget of ea...   \n",
       "3  отдел_управления  \"What are the maximum and minimum budget of th...   \n",
       "4  отдел_управления  \"What is the average number of employees of th...   \n",
       "\n",
       "                              Токен текстовый запрос  \\\n",
       "0  [ \"How\", \"many\", \"heads\", \"of\", \"the\", \"depart...   \n",
       "1  [ \"List\", \"the\", \"name\", \",\", \"born\", \"state\",...   \n",
       "2  [ \"List\", \"the\", \"creation\", \"year\", \",\", \"nam...   \n",
       "3  [ \"What\", \"are\", \"the\", \"maximum\", \"and\", \"min...   \n",
       "4  [ \"What\", \"is\", \"the\", \"average\", \"number\", \"o...   \n",
       "\n",
       "                                          Запрос SQL  \\\n",
       "0         \"SELECT count(*) FROM head WHERE age > 56\"   \n",
       "1  \"SELECT name , born_state , age FROM head ORDE...   \n",
       "2  \"SELECT creation , name , budget_in_billions F...   \n",
       "3  \"SELECT max(budget_in_billions) , min(budget_i...   \n",
       "4  \"SELECT avg(num_employees) FROM department WHE...   \n",
       "\n",
       "                                    Токен запрос SQL  \n",
       "0  [ \"SELECT\", \"count\", \"(\", \"*\", \")\", \"FROM\", \"h...  \n",
       "1  [ \"SELECT\", \"name\", \",\", \"born_state\", \",\", \"a...  \n",
       "2  [ \"SELECT\", \"creation\", \",\", \"name\", \",\", \"bud...  \n",
       "3  [ \"SELECT\", \"max\", \"(\", \"budget_in_billions\", ...  \n",
       "4  [ \"SELECT\", \"avg\", \"(\", \"num_employees\", \")\", ...  "
      ]
     },
     "execution_count": 3,
     "metadata": {},
     "output_type": "execute_result"
    }
   ],
   "source": [
    "from openpyxl import load_workbook\n",
    "wb = pd.read_excel('./DATASET.xlsx', 0)\n",
    "wb.head()"
   ]
  },
  {
   "cell_type": "code",
   "execution_count": 4,
   "id": "3b71215b-5565-4f25-a826-3ace99e4d267",
   "metadata": {},
   "outputs": [
    {
     "data": {
      "image/png": "[encoded data removed]",
      "text/plain": [
       "<Figure size 1000x600 with 1 Axes>"
      ]
     },
     "metadata": {},
     "output_type": "display_data"
    }
   ],
   "source": [
    "l = []\n",
    "for i in wb['Запрос SQL']:\n",
    "  l.append(len(i))\n",
    "\n",
    "plt.figure(figsize = (10,6))\n",
    "sns.histplot(l)\n",
    "plt.show()"
   ]
  },
  {
   "cell_type": "code",
   "execution_count": 5,
   "id": "f322c16b-2407-4387-8fd8-d482b3ba6ed3",
   "metadata": {},
   "outputs": [
    {
     "data": {
      "image/png": "[encoded data removed]",
      "text/plain": [
       "<Figure size 1000x600 with 1 Axes>"
      ]
     },
     "metadata": {},
     "output_type": "display_data"
    }
   ],
   "source": [
    "l = []\n",
    "for i in wb['Текстовый запрос']:\n",
    "  l.append(len(i))\n",
    "\n",
    "plt.figure(figsize = (10,6))\n",
    "sns.histplot(l)\n",
    "plt.show()"
   ]
  },
  {
   "cell_type": "code",
   "execution_count": 6,
   "id": "c3205505-4887-4755-8c55-33ff3479d1bd",
   "metadata": {},
   "outputs": [],
   "source": [
    "wb = wb[['Запрос SQL','Текстовый запрос']]"
   ]
  },
  {
   "cell_type": "code",
   "execution_count": 7,
   "id": "f238f6db-a4ed-499c-99f2-6b40468036a0",
   "metadata": {},
   "outputs": [
    {
     "name": "stdout",
     "output_type": "stream",
     "text": [
      "(90, 2)\n",
      "(10, 2)\n"
     ]
    }
   ],
   "source": [
    "train_df, val_df = train_test_split(wb,test_size = 0.1, random_state = 21)\n",
    "print(train_df.shape)\n",
    "print(val_df.shape)"
   ]
  },
  {
   "cell_type": "code",
   "execution_count": 8,
   "id": "1a862b7a-3529-4623-9c72-10ca5102f643",
   "metadata": {
    "tags": []
   },
   "outputs": [
    {
     "name": "stdout",
     "output_type": "stream",
     "text": [
      "Dataset({\n",
      "    features: ['Запрос SQL', 'Текстовый запрос'],\n",
      "    num_rows: 90\n",
      "})\n",
      "Dataset({\n",
      "    features: ['Запрос SQL', 'Текстовый запрос'],\n",
      "    num_rows: 10\n",
      "})\n"
     ]
    }
   ],
   "source": [
    "train_dataset = Dataset.from_pandas(train_df)\n",
    "val_dataset = Dataset.from_pandas(val_df)\n",
    "train_dataset = train_dataset.remove_columns(['__index_level_0__'])\n",
    "val_dataset = val_dataset.remove_columns(['__index_level_0__'])\n",
    "print(train_dataset)\n",
    "print(val_dataset)"
   ]
  },
  {
   "cell_type": "code",
   "execution_count": 9,
   "id": "e0cd7bbf-830b-454c-8bc3-02939fa68730",
   "metadata": {},
   "outputs": [
    {
     "data": {
      "text/plain": [
       "'\"SELECT T1.student_details FROM students AS T1 JOIN student_course_registrations AS T2 ON T1.student_id = T2.student_id GROUP BY T1.student_id ORDER BY count(*) DESC LIMIT 1\"'"
      ]
     },
     "execution_count": 9,
     "metadata": {},
     "output_type": "execute_result"
    }
   ],
   "source": [
    "train_dataset['Запрос SQL'][1]"
   ]
  },
  {
   "cell_type": "code",
   "execution_count": 10,
   "id": "bea6921f-4ee4-43dd-ac82-fad0cf45c20c",
   "metadata": {
    "tags": []
   },
   "outputs": [],
   "source": [
    "# downloading model from the checkpoint\n",
    "from transformers import (\n",
    "    T5ForConditionalGeneration,\n",
    "    T5Tokenizer,\n",
    ")\n",
    "\n",
    "tokenizer = T5Tokenizer.from_pretrained('CheesyPitsa/5chobanov')\n",
    "#МОДЕЛЬ-------------------------------------------------------------------------------\n",
    "model_checkpoint = T5ForConditionalGeneration.from_pretrained('CheesyPitsa/5chobanov')\n",
    "tokenizer.save_pretrained(\"./bigscience_t0\")\n",
    "model_checkpoint.save_pretrained(\"./bigscience_t0\")"
   ]
  },
  {
   "cell_type": "code",
   "execution_count": 11,
   "id": "f13e5ad2-96fd-4b53-b73b-ff8101915b49",
   "metadata": {},
   "outputs": [],
   "source": [
    "max_input_length = 256\n",
    "max_target_length = 256\n",
    "\n",
    "\n",
    "def preprocess_function(examples):\n",
    "    model_inputs = tokenizer(\n",
    "        examples['Текстовый запрос'],\n",
    "        max_length=max_input_length,\n",
    "        truncation=True, padding = 'max_length'\n",
    "    )\n",
    "    labels = tokenizer(text = examples['Запрос SQL'], max_length=max_target_length, truncation=True,padding = 'max_length')\n",
    "    model_inputs[\"labels\"] = labels[\"input_ids\"]\n",
    "    model_inputs[\"labels_mask\"] = labels[\"attention_mask\"]\n",
    "    return model_inputs"
   ]
  },
  {
   "cell_type": "code",
   "execution_count": 12,
   "id": "a4e2d13a-a890-4e15-8095-0d16f284cc00",
   "metadata": {
    "tags": []
   },
   "outputs": [
    {
     "data": {
      "application/vnd.jupyter.widget-view+json": {
       "model_id": "5f294d1873384b80a25f1207fee1b30f",
       "version_major": 2,
       "version_minor": 0
      },
      "text/plain": [
       "  0%|          | 0/1 [00:00<?, ?ba/s]"
      ]
     },
     "metadata": {},
     "output_type": "display_data"
    },
    {
     "data": {
      "application/vnd.jupyter.widget-view+json": {
       "model_id": "0ea95f7db4db436c81127678cfd4f502",
       "version_major": 2,
       "version_minor": 0
      },
      "text/plain": [
       "  0%|          | 0/1 [00:00<?, ?ba/s]"
      ]
     },
     "metadata": {},
     "output_type": "display_data"
    }
   ],
   "source": [
    "tokenized_train_datasets = train_dataset.map(preprocess_function, batched=True)\n",
    "tokenized_val_datasets = val_dataset.map(preprocess_function, batched=True)"
   ]
  },
  {
   "cell_type": "code",
   "execution_count": 13,
   "id": "0cccc554-42ab-47bc-8b65-05855187a9d2",
   "metadata": {},
   "outputs": [],
   "source": [
    "tokenized_train_datasets = tokenized_train_datasets.remove_columns(['Запрос SQL','Текстовый запрос'])\n",
    "tokenized_val_datasets = tokenized_val_datasets.remove_columns(['Запрос SQL','Текстовый запрос'])"
   ]
  },
  {
   "cell_type": "code",
   "execution_count": 14,
   "id": "a7ca0d81-c502-4c31-99fd-c201cf951534",
   "metadata": {
    "tags": []
   },
   "outputs": [],
   "source": [
    "from transformers import AutoModelForSeq2SeqLM, DataCollatorForSeq2Seq, Seq2SeqTrainer, Seq2SeqTrainingArguments\n",
    "model = AutoModelForSeq2SeqLM.from_pretrained(\"./bigscience_t0\")"
   ]
  },
  {
   "cell_type": "code",
   "execution_count": 15,
   "id": "e6b2e266-cf11-47d9-9af9-41b45f9ed674",
   "metadata": {
    "tags": []
   },
   "outputs": [],
   "source": [
    "data_collator = DataCollatorForSeq2Seq(model = model,tokenizer = tokenizer,label_pad_token_id=-100)"
   ]
  },
  {
   "cell_type": "code",
   "execution_count": 16,
   "id": "0c7d5d38-aa61-4396-a99e-5714368fac21",
   "metadata": {
    "tags": []
   },
   "outputs": [],
   "source": [
    "batch_size = 8\n",
    "learning_rate = 1e-5\n",
    "args = Seq2SeqTrainingArguments(\n",
    "    \"test-summary\",\n",
    "    evaluation_strategy = \"epoch\",\n",
    "    learning_rate=learning_rate,\n",
    "    per_device_train_batch_size=batch_size,\n",
    "    per_device_eval_batch_size=batch_size,\n",
    "    weight_decay=0.01,\n",
    "    save_total_limit=3,\n",
    "    num_train_epochs=3,\n",
    "    predict_with_generate=True,\n",
    "    fp16=False,\n",
    "    push_to_hub = False,\n",
    "    report_to = \"all\"\n",
    ")"
   ]
  },
  {
   "cell_type": "code",
   "execution_count": 17,
   "id": "1a9dab2e-5444-4dad-83be-ffb8112ee1b1",
   "metadata": {
    "tags": []
   },
   "outputs": [],
   "source": [
    "def postprocess_text(preds, labels):\n",
    "    preds = [pred.strip() for pred in preds]\n",
    "    labels = [[label.strip()] for label in labels]\n",
    "\n",
    "    return preds, labels\n",
    "\n",
    "def compute_metrics(eval_pred):\n",
    "    predictions, labels = eval_pred\n",
    "    decoded_preds = tokenizer.batch_decode(predictions, skip_special_tokens=True)\n",
    "    labels = np.where(labels != -100, labels, tokenizer.pad_token_id)\n",
    "    decoded_labels = tokenizer.batch_decode(labels, skip_special_tokens=True)\n",
    "    decoded_preds = [\"\\n\".join(sent_tokenize(pred.strip())) for pred in decoded_preds]\n",
    "    decoded_labels = [\"\\n\".join(sent_tokenize(label.strip())) for label in decoded_labels]\n",
    "    result = rouge_score.compute(\n",
    "        predictions=decoded_preds, references=decoded_labels, use_stemmer=True\n",
    "    )\n",
    "    result = {key: value * 100 for key, value in result.items()}\n",
    "    return {k: round(v, 4) for k, v in result.items()}"
   ]
  },
  {
   "cell_type": "code",
   "execution_count": 18,
   "id": "77439610-8b92-4c90-b9ba-2f6dce925754",
   "metadata": {},
   "outputs": [],
   "source": [
    "trainer = Seq2SeqTrainer(\n",
    "    model,\n",
    "    args,\n",
    "    train_dataset=tokenized_train_datasets,\n",
    "    eval_dataset=tokenized_val_datasets,\n",
    "    data_collator=data_collator,\n",
    "    tokenizer=tokenizer,\n",
    "    compute_metrics=compute_metrics,\n",
    ")"
   ]
  },
  {
   "cell_type": "code",
   "execution_count": 19,
   "id": "ae9c6914-e409-4a9d-a765-6ff8245a096d",
   "metadata": {},
   "outputs": [
    {
     "name": "stderr",
     "output_type": "stream",
     "text": [
      "The following columns in the training set don't have a corresponding argument in `T5ForConditionalGeneration.forward` and have been ignored: labels_mask. If labels_mask are not expected by `T5ForConditionalGeneration.forward`,  you can safely ignore this message.\n",
      "c:\\users\\alexa\\appdata\\local\\programs\\python\\python38\\lib\\site-packages\\transformers\\optimization.py:306: FutureWarning: This implementation of AdamW is deprecated and will be removed in a future version. Use the PyTorch implementation torch.optim.AdamW instead, or set `no_deprecation_warning=True` to disable this warning\n",
      "  warnings.warn(\n",
      "***** Running training *****\n",
      "  Num examples = 90\n",
      "  Num Epochs = 3\n",
      "  Instantaneous batch size per device = 8\n",
      "  Total train batch size (w. parallel, distributed & accumulation) = 8\n",
      "  Gradient Accumulation steps = 1\n",
      "  Total optimization steps = 36\n",
      "  Number of trainable parameters = 60506624\n"
     ]
    },
    {
     "data": {
      "text/html": [
       "\n",
       "    <div>\n",
       "      \n",
       "      <progress value='36' max='36' style='width:300px; height:20px; vertical-align: middle;'></progress>\n",
       "      [36/36 07:49, Epoch 3/3]\n",
       "    </div>\n",
       "    <table border=\"1\" class=\"dataframe\">\n",
       "  <thead>\n",
       " <tr style=\"text-align: left;\">\n",
       "      <th>Epoch</th>\n",
       "      <th>Training Loss</th>\n",
       "      <th>Validation Loss</th>\n",
       "      <th>Rouge1</th>\n",
       "      <th>Rouge2</th>\n",
       "      <th>Rougel</th>\n",
       "      <th>Rougelsum</th>\n",
       "    </tr>\n",
       "  </thead>\n",
       "  <tbody>\n",
       "    <tr>\n",
       "      <td>1</td>\n",
       "      <td>No log</td>\n",
       "      <td>0.999933</td>\n",
       "      <td>0.465100</td>\n",
       "      <td>0.000000</td>\n",
       "      <td>0.465100</td>\n",
       "      <td>0.465100</td>\n",
       "    </tr>\n",
       "    <tr>\n",
       "      <td>2</td>\n",
       "      <td>No log</td>\n",
       "      <td>0.968817</td>\n",
       "      <td>0.465100</td>\n",
       "      <td>0.000000</td>\n",
       "      <td>0.465100</td>\n",
       "      <td>0.465100</td>\n",
       "    </tr>\n",
       "    <tr>\n",
       "      <td>3</td>\n",
       "      <td>No log</td>\n",
       "      <td>0.962270</td>\n",
       "      <td>0.000000</td>\n",
       "      <td>0.000000</td>\n",
       "      <td>0.000000</td>\n",
       "      <td>0.000000</td>\n",
       "    </tr>\n",
       "  </tbody>\n",
       "</table><p>"
      ],
      "text/plain": [
       "<IPython.core.display.HTML object>"
      ]
     },
     "metadata": {},
     "output_type": "display_data"
    },
    {
     "name": "stderr",
     "output_type": "stream",
     "text": [
      "The following columns in the evaluation set don't have a corresponding argument in `T5ForConditionalGeneration.forward` and have been ignored: labels_mask. If labels_mask are not expected by `T5ForConditionalGeneration.forward`,  you can safely ignore this message.\n",
      "***** Running Evaluation *****\n",
      "  Num examples = 10\n",
      "  Batch size = 8\n",
      "The following columns in the evaluation set don't have a corresponding argument in `T5ForConditionalGeneration.forward` and have been ignored: labels_mask. If labels_mask are not expected by `T5ForConditionalGeneration.forward`,  you can safely ignore this message.\n",
      "***** Running Evaluation *****\n",
      "  Num examples = 10\n",
      "  Batch size = 8\n",
      "The following columns in the evaluation set don't have a corresponding argument in `T5ForConditionalGeneration.forward` and have been ignored: labels_mask. If labels_mask are not expected by `T5ForConditionalGeneration.forward`,  you can safely ignore this message.\n",
      "***** Running Evaluation *****\n",
      "  Num examples = 10\n",
      "  Batch size = 8\n",
      "\n",
      "\n",
      "Training completed. Do not forget to share your model on huggingface.co/models =)\n",
      "\n",
      "\n"
     ]
    },
    {
     "data": {
      "text/plain": [
       "TrainOutput(global_step=36, training_loss=2.4555611080593533, metrics={'train_runtime': 481.4292, 'train_samples_per_second': 0.561, 'train_steps_per_second': 0.075, 'total_flos': 18271143198720.0, 'train_loss': 2.4555611080593533, 'epoch': 3.0})"
      ]
     },
     "execution_count": 19,
     "metadata": {},
     "output_type": "execute_result"
    }
   ],
   "source": [
    "trainer.train()"
   ]
  },
  {
   "cell_type": "code",
   "execution_count": 20,
   "id": "5c75b707-1d4e-4e98-9f0c-209ff3ebafc8",
   "metadata": {},
   "outputs": [],
   "source": [
    "from huggingface_hub import notebook_login"
   ]
  },
  {
   "cell_type": "code",
   "execution_count": 21,
   "id": "3cd38c7a-d49f-4f4d-a87f-02517a96cfbb",
   "metadata": {},
   "outputs": [
    {
     "data": {
      "application/vnd.jupyter.widget-view+json": {
       "model_id": "fa9038cf06e4434088714d9cbe118dd6",
       "version_major": 2,
       "version_minor": 0
      },
      "text/plain": [
       "VBox(children=(HTML(value='<center> <img\\nsrc=https://huggingface.co/front/assets/huggingface_logo-noborder.sv…"
      ]
     },
     "metadata": {},
     "output_type": "display_data"
    }
   ],
   "source": [
    "notebook_login()"
   ]
  },
  {
   "cell_type": "code",
   "execution_count": 22,
   "id": "9f8bdf7a-361e-486f-a370-84f772eb86af",
   "metadata": {},
   "outputs": [
    {
     "name": "stderr",
     "output_type": "stream",
     "text": [
      "Configuration saved in CheesyPitsa/5chobanov\\config.json\n",
      "Model weights saved in CheesyPitsa/5chobanov\\pytorch_model.bin\n",
      "Uploading the following files to CheesyPitsa/5chobanov: config.json,pytorch_model.bin\n",
      "tokenizer config file saved in CheesyPitsa/5chobanov\\tokenizer_config.json\n",
      "Special tokens file saved in CheesyPitsa/5chobanov\\special_tokens_map.json\n",
      "Uploading the following files to CheesyPitsa/5chobanov: special_tokens_map.json,tokenizer_config.json\n"
     ]
    },
    {
     "data": {
      "text/plain": [
       "('CheesyPitsa/5chobanov\\\\tokenizer_config.json',\n",
       " 'CheesyPitsa/5chobanov\\\\special_tokens_map.json',\n",
       " 'CheesyPitsa/5chobanov\\\\spiece.model',\n",
       " 'CheesyPitsa/5chobanov\\\\added_tokens.json')"
      ]
     },
     "execution_count": 22,
     "metadata": {},
     "output_type": "execute_result"
    }
   ],
   "source": [
    "model.save_pretrained('CheesyPitsa/5chobanov',push_to_hub=True)\n",
    "tokenizer.save_pretrained('CheesyPitsa/5chobanov',push_to_hub=True)"
   ]
  },
  {
   "cell_type": "code",
   "execution_count": null,
   "id": "34831393-e1a6-4392-8283-7d678f829fbe",
   "metadata": {},
   "outputs": [],
   "source": []
  }
 ],
 "metadata": {
  "kernelspec": {
   "display_name": "Python 3 (ipykernel)",
   "language": "python",
   "name": "python3"
  },
  "language_info": {
   "codemirror_mode": {
    "name": "ipython",
    "version": 3
   },
   "file_extension": ".py",
   "mimetype": "text/x-python",
   "name": "python",
   "nbconvert_exporter": "python",
   "pygments_lexer": "ipython3",
   "version": "3.8.10"
  }
 },
 "nbformat": 4,
 "nbformat_minor": 5
}
